{
 "cells": [
  {
   "cell_type": "code",
   "execution_count": null,
   "metadata": {},
   "outputs": [],
   "source": []
  },
  {
   "cell_type": "code",
   "execution_count": 3,
   "metadata": {},
   "outputs": [
    {
     "name": "stdout",
     "output_type": "stream",
     "text": [
      "Hello\n",
      "Python\n",
      "홍길동 나이 = 20 세\n"
     ]
    }
   ],
   "source": [
    "#프린트문 연습중입니다.\n",
    "print('Hello')\n",
    "print('Python')\n",
    "print('홍길동', '나이 =', 20, '세')"
   ]
  },
  {
   "cell_type": "code",
   "execution_count": 5,
   "metadata": {},
   "outputs": [
    {
     "name": "stdout",
     "output_type": "stream",
     "text": [
      "Hello\n",
      "Python\n",
      "Nice       to meet you\n"
     ]
    }
   ],
   "source": [
    "print(\"Hello\"), print('Python')\n",
    "\n",
    "print('Nice \\\n",
    "      to meet you')"
   ]
  },
  {
   "cell_type": "code",
   "execution_count": 7,
   "metadata": {},
   "outputs": [
    {
     "name": "stdout",
     "output_type": "stream",
     "text": [
      "Hi Python\n",
      "HiPython\n"
     ]
    }
   ],
   "source": [
    "print('Hi','Python')\n",
    "print('Hi', 'Python',sep='')"
   ]
  },
  {
   "cell_type": "code",
   "execution_count": 8,
   "metadata": {},
   "outputs": [
    {
     "name": "stdout",
     "output_type": "stream",
     "text": [
      "Hi Python\n"
     ]
    }
   ],
   "source": [
    "print('Hi', end=' ')\n",
    "print('Python')"
   ]
  },
  {
   "cell_type": "code",
   "execution_count": 9,
   "metadata": {},
   "outputs": [
    {
     "name": "stdout",
     "output_type": "stream",
     "text": [
      "김철수 나이 = 7 세\n"
     ]
    }
   ],
   "source": [
    "name = '김철수'\n",
    "age = 7\n",
    "\n",
    "print(name, '나이 =', age, '세')"
   ]
  },
  {
   "cell_type": "code",
   "execution_count": 10,
   "metadata": {},
   "outputs": [
    {
     "data": {
      "text/plain": [
       "str"
      ]
     },
     "execution_count": 10,
     "metadata": {},
     "output_type": "execute_result"
    }
   ],
   "source": [
    "type(name)"
   ]
  },
  {
   "cell_type": "code",
   "execution_count": 11,
   "metadata": {},
   "outputs": [
    {
     "data": {
      "text/plain": [
       "int"
      ]
     },
     "execution_count": 11,
     "metadata": {},
     "output_type": "execute_result"
    }
   ],
   "source": [
    "type(age)"
   ]
  },
  {
   "cell_type": "code",
   "execution_count": 12,
   "metadata": {},
   "outputs": [
    {
     "data": {
      "text/plain": [
       "29"
      ]
     },
     "execution_count": 12,
     "metadata": {},
     "output_type": "execute_result"
    }
   ],
   "source": [
    "name = 29\n",
    "name"
   ]
  },
  {
   "cell_type": "code",
   "execution_count": 13,
   "metadata": {},
   "outputs": [
    {
     "data": {
      "text/plain": [
       "int"
      ]
     },
     "execution_count": 13,
     "metadata": {},
     "output_type": "execute_result"
    }
   ],
   "source": [
    "type(name)"
   ]
  },
  {
   "cell_type": "code",
   "execution_count": 14,
   "metadata": {},
   "outputs": [
    {
     "data": {
      "text/plain": [
       "False"
      ]
     },
     "execution_count": 14,
     "metadata": {},
     "output_type": "execute_result"
    }
   ],
   "source": [
    "str()\n",
    "int()\n",
    "float()\n",
    "bool()"
   ]
  },
  {
   "cell_type": "code",
   "execution_count": 15,
   "metadata": {},
   "outputs": [
    {
     "data": {
      "text/plain": [
       "True"
      ]
     },
     "execution_count": 15,
     "metadata": {},
     "output_type": "execute_result"
    }
   ],
   "source": [
    "bool('True')"
   ]
  },
  {
   "cell_type": "code",
   "execution_count": 16,
   "metadata": {},
   "outputs": [
    {
     "data": {
      "text/plain": [
       "str"
      ]
     },
     "execution_count": 16,
     "metadata": {},
     "output_type": "execute_result"
    }
   ],
   "source": [
    "type('True')"
   ]
  },
  {
   "cell_type": "code",
   "execution_count": 17,
   "metadata": {},
   "outputs": [
    {
     "data": {
      "text/plain": [
       "bool"
      ]
     },
     "execution_count": 17,
     "metadata": {},
     "output_type": "execute_result"
    }
   ],
   "source": [
    "type(True)"
   ]
  },
  {
   "cell_type": "code",
   "execution_count": 18,
   "metadata": {},
   "outputs": [
    {
     "data": {
      "text/plain": [
       "True"
      ]
     },
     "execution_count": 18,
     "metadata": {},
     "output_type": "execute_result"
    }
   ],
   "source": [
    "bool(True)"
   ]
  },
  {
   "cell_type": "code",
   "execution_count": 19,
   "metadata": {},
   "outputs": [
    {
     "data": {
      "text/plain": [
       "True"
      ]
     },
     "execution_count": 19,
     "metadata": {},
     "output_type": "execute_result"
    }
   ],
   "source": [
    "bool(5)"
   ]
  },
  {
   "cell_type": "code",
   "execution_count": 20,
   "metadata": {},
   "outputs": [
    {
     "name": "stdout",
     "output_type": "stream",
     "text": [
      "7\n"
     ]
    }
   ],
   "source": [
    "num1 = 3\n",
    "num2 = 4\n",
    "hap = num1 + num2\n",
    "print(hap)"
   ]
  },
  {
   "cell_type": "code",
   "execution_count": 21,
   "metadata": {},
   "outputs": [
    {
     "data": {
      "text/plain": [
       "int"
      ]
     },
     "execution_count": 21,
     "metadata": {},
     "output_type": "execute_result"
    }
   ],
   "source": [
    "type(num1)"
   ]
  },
  {
   "cell_type": "code",
   "execution_count": 22,
   "metadata": {},
   "outputs": [
    {
     "data": {
      "text/plain": [
       "False"
      ]
     },
     "execution_count": 22,
     "metadata": {},
     "output_type": "execute_result"
    }
   ],
   "source": [
    "3==4"
   ]
  },
  {
   "cell_type": "code",
   "execution_count": 24,
   "metadata": {},
   "outputs": [
    {
     "name": "stdout",
     "output_type": "stream",
     "text": [
      "7\n",
      "-1\n",
      "12\n",
      "0.75\n",
      "0\n",
      "3\n"
     ]
    }
   ],
   "source": [
    "a = 3\n",
    "b = 4\n",
    "print(a + b)\n",
    "print(a - b)\n",
    "print(a * b)\n",
    "print(a / b)\n",
    "print(a // b)\n",
    "print(a %b)"
   ]
  },
  {
   "cell_type": "code",
   "execution_count": 30,
   "metadata": {},
   "outputs": [
    {
     "name": "stdout",
     "output_type": "stream",
     "text": [
      "1 2 3 4\n"
     ]
    }
   ],
   "source": [
    "n = 1234\n",
    "\n",
    "print(n//1000,\n",
    "n//100%10,\n",
    "n//10%10,\n",
    "n%10)"
   ]
  },
  {
   "cell_type": "code",
   "execution_count": 27,
   "metadata": {},
   "outputs": [
    {
     "data": {
      "text/plain": [
       "12345600"
      ]
     },
     "execution_count": 27,
     "metadata": {},
     "output_type": "execute_result"
    }
   ],
   "source": [
    "pay = 12345678\n",
    "\n",
    "pay - pay % 100"
   ]
  },
  {
   "cell_type": "code",
   "execution_count": 33,
   "metadata": {},
   "outputs": [
    {
     "name": "stdout",
     "output_type": "stream",
     "text": [
      "3\n"
     ]
    }
   ],
   "source": [
    "a=1234\n",
    "b=2\n",
    "c = a %(10**b) // (10**(b-1))\n",
    "print(c)"
   ]
  },
  {
   "cell_type": "code",
   "execution_count": 34,
   "metadata": {},
   "outputs": [
    {
     "name": "stdout",
     "output_type": "stream",
     "text": [
      "True\n",
      "True\n",
      "False\n"
     ]
    }
   ],
   "source": [
    "print((3<5) and(3>0))\n",
    "print((4<7) or (5>8))\n",
    "print(not(5<9))"
   ]
  },
  {
   "cell_type": "code",
   "execution_count": 35,
   "metadata": {},
   "outputs": [
    {
     "name": "stdout",
     "output_type": "stream",
     "text": [
      "The Zen of Python, by Tim Peters\n",
      "\n",
      "Beautiful is better than ugly.\n",
      "Explicit is better than implicit.\n",
      "Simple is better than complex.\n",
      "Complex is better than complicated.\n",
      "Flat is better than nested.\n",
      "Sparse is better than dense.\n",
      "Readability counts.\n",
      "Special cases aren't special enough to break the rules.\n",
      "Although practicality beats purity.\n",
      "Errors should never pass silently.\n",
      "Unless explicitly silenced.\n",
      "In the face of ambiguity, refuse the temptation to guess.\n",
      "There should be one-- and preferably only one --obvious way to do it.\n",
      "Although that way may not be obvious at first unless you're Dutch.\n",
      "Now is better than never.\n",
      "Although never is often better than *right* now.\n",
      "If the implementation is hard to explain, it's a bad idea.\n",
      "If the implementation is easy to explain, it may be a good idea.\n",
      "Namespaces are one honking great idea -- let's do more of those!\n"
     ]
    }
   ],
   "source": [
    "import this"
   ]
  },
  {
   "cell_type": "code",
   "execution_count": 36,
   "metadata": {},
   "outputs": [
    {
     "data": {
      "text/plain": [
       "\"어머님은 '자장면이'이 싫다고 하셨어\""
      ]
     },
     "execution_count": 36,
     "metadata": {},
     "output_type": "execute_result"
    }
   ],
   "source": [
    "'어머님은 \\'자장면이\\'이 싫다고 하셨어'"
   ]
  },
  {
   "cell_type": "code",
   "execution_count": 38,
   "metadata": {},
   "outputs": [
    {
     "data": {
      "text/plain": [
       "'PythonHello'"
      ]
     },
     "execution_count": 38,
     "metadata": {},
     "output_type": "execute_result"
    }
   ],
   "source": [
    "head = \"Python\"\n",
    "tail = \"Hello\"\n",
    "\n",
    "head + tail"
   ]
  },
  {
   "cell_type": "code",
   "execution_count": 39,
   "metadata": {},
   "outputs": [
    {
     "data": {
      "text/plain": [
       "str"
      ]
     },
     "execution_count": 39,
     "metadata": {},
     "output_type": "execute_result"
    }
   ],
   "source": [
    "type(head)"
   ]
  },
  {
   "cell_type": "code",
   "execution_count": 40,
   "metadata": {},
   "outputs": [
    {
     "data": {
      "text/plain": [
       "17"
      ]
     },
     "execution_count": 40,
     "metadata": {},
     "output_type": "execute_result"
    }
   ],
   "source": [
    "samplestring = \"Life is too short\"\n",
    "len(samplestring)   "
   ]
  },
  {
   "cell_type": "code",
   "execution_count": 44,
   "metadata": {},
   "outputs": [
    {
     "name": "stdout",
     "output_type": "stream",
     "text": [
      "'낮말'은 새가 듣고 '밤말'은 쥐가 듣는다.\n"
     ]
    }
   ],
   "source": [
    "print(\"'낮말'은 새가 듣고 '밤말'은 쥐가 듣는다.\")"
   ]
  },
  {
   "cell_type": "code",
   "execution_count": 45,
   "metadata": {},
   "outputs": [
    {
     "data": {
      "text/plain": [
       "'t'"
      ]
     },
     "execution_count": 45,
     "metadata": {},
     "output_type": "execute_result"
    }
   ],
   "source": [
    "samplestring[8]"
   ]
  },
  {
   "cell_type": "code",
   "execution_count": 47,
   "metadata": {},
   "outputs": [
    {
     "data": {
      "text/plain": [
       "'h'"
      ]
     },
     "execution_count": 47,
     "metadata": {},
     "output_type": "execute_result"
    }
   ],
   "source": [
    "samplestring[13]"
   ]
  },
  {
   "cell_type": "code",
   "execution_count": 48,
   "metadata": {},
   "outputs": [
    {
     "ename": "TypeError",
     "evalue": "string indices must be integers, not 'tuple'",
     "output_type": "error",
     "traceback": [
      "\u001b[1;31m---------------------------------------------------------------------------\u001b[0m",
      "\u001b[1;31mTypeError\u001b[0m                                 Traceback (most recent call last)",
      "Cell \u001b[1;32mIn[48], line 1\u001b[0m\n\u001b[1;32m----> 1\u001b[0m \u001b[43msamplestring\u001b[49m\u001b[43m[\u001b[49m\u001b[38;5;241;43m0\u001b[39;49m\u001b[43m,\u001b[49m\u001b[38;5;241;43m1\u001b[39;49m\u001b[43m,\u001b[49m\u001b[38;5;241;43m5\u001b[39;49m\u001b[43m,\u001b[49m\u001b[38;5;241;43m7\u001b[39;49m\u001b[43m]\u001b[49m\n",
      "\u001b[1;31mTypeError\u001b[0m: string indices must be integers, not 'tuple'"
     ]
    }
   ],
   "source": [
    "samplestring[0,1,5,7]"
   ]
  },
  {
   "cell_type": "code",
   "execution_count": 51,
   "metadata": {},
   "outputs": [
    {
     "name": "stdout",
     "output_type": "stream",
     "text": [
      "too\n"
     ]
    }
   ],
   "source": [
    "print(samplestring[8]+\n",
    "samplestring[9]+\n",
    "samplestring[10])"
   ]
  },
  {
   "cell_type": "code",
   "execution_count": 52,
   "metadata": {},
   "outputs": [
    {
     "data": {
      "text/plain": [
       "' short'"
      ]
     },
     "execution_count": 52,
     "metadata": {},
     "output_type": "execute_result"
    }
   ],
   "source": [
    "samplestring[11:17]"
   ]
  },
  {
   "cell_type": "code",
   "execution_count": 53,
   "metadata": {},
   "outputs": [
    {
     "data": {
      "text/plain": [
       "'Life is too short'"
      ]
     },
     "execution_count": 53,
     "metadata": {},
     "output_type": "execute_result"
    }
   ],
   "source": [
    "samplestring[:]"
   ]
  },
  {
   "cell_type": "code",
   "execution_count": 54,
   "metadata": {},
   "outputs": [
    {
     "data": {
      "text/plain": [
       "'Life is too short'"
      ]
     },
     "execution_count": 54,
     "metadata": {},
     "output_type": "execute_result"
    }
   ],
   "source": [
    "samplestring[::]"
   ]
  },
  {
   "cell_type": "code",
   "execution_count": 55,
   "metadata": {},
   "outputs": [
    {
     "data": {
      "text/plain": [
       "'Life is too short'"
      ]
     },
     "execution_count": 55,
     "metadata": {},
     "output_type": "execute_result"
    }
   ],
   "source": [
    "samplestring[::1]"
   ]
  },
  {
   "cell_type": "code",
   "execution_count": 56,
   "metadata": {},
   "outputs": [
    {
     "data": {
      "text/plain": [
       "'L tst'"
      ]
     },
     "execution_count": 56,
     "metadata": {},
     "output_type": "execute_result"
    }
   ],
   "source": [
    "samplestring[::4]"
   ]
  },
  {
   "cell_type": "code",
   "execution_count": 58,
   "metadata": {},
   "outputs": [
    {
     "name": "stdout",
     "output_type": "stream",
     "text": [
      "Lite\n"
     ]
    }
   ],
   "source": [
    "samplestring = \"Life is too short, You need Python\"\n",
    "print(samplestring[0]+\n",
    "      samplestring[5]+\n",
    "      samplestring[8]+\n",
    "      samplestring[24])"
   ]
  },
  {
   "cell_type": "markdown",
   "metadata": {},
   "source": [
    "사용자 입력"
   ]
  },
  {
   "cell_type": "code",
   "execution_count": 59,
   "metadata": {},
   "outputs": [
    {
     "data": {
      "text/plain": [
       "'Hello'"
      ]
     },
     "execution_count": 59,
     "metadata": {},
     "output_type": "execute_result"
    }
   ],
   "source": [
    "input()"
   ]
  },
  {
   "cell_type": "code",
   "execution_count": 63,
   "metadata": {},
   "outputs": [
    {
     "name": "stdout",
     "output_type": "stream",
     "text": [
      "당신의 이름은 최유진입니다\n"
     ]
    }
   ],
   "source": [
    "name = input('이름을 입력해주세요 : ')\n",
    "\n",
    "print('당신의 이름은 ' + name+ '입니다')"
   ]
  },
  {
   "cell_type": "code",
   "execution_count": 67,
   "metadata": {},
   "outputs": [
    {
     "name": "stdout",
     "output_type": "stream",
     "text": [
      "5\n"
     ]
    }
   ],
   "source": [
    "a = input()\n",
    "b = input()\n",
    "\n",
    "print(int(a) + int(b))"
   ]
  },
  {
   "cell_type": "code",
   "execution_count": null,
   "metadata": {},
   "outputs": [],
   "source": []
  },
  {
   "cell_type": "code",
   "execution_count": 68,
   "metadata": {},
   "outputs": [
    {
     "name": "stdout",
     "output_type": "stream",
     "text": [
      "9.0\n"
     ]
    }
   ],
   "source": [
    "a = int(input('삼각형 밑면을 입력해주세요요'))\n",
    "b =int(input('삼각형 높이를 입력해주세요요'))\n",
    "\n",
    "print(a*b/2)"
   ]
  },
  {
   "cell_type": "code",
   "execution_count": 75,
   "metadata": {},
   "outputs": [
    {
     "name": "stdout",
     "output_type": "stream",
     "text": [
      "김밥주문갯수: 34\n",
      "떡볶이주문갯수: 3\n",
      "라면주문갯수: 3\n",
      "지불하실 금액은  120000 입니다.\n"
     ]
    }
   ],
   "source": [
    "a = int(input('김밥 몇 개 주문하시겠어요?'))\n",
    "b = int(input('떡볶이 몇 개 주문하시겠어요?'))\n",
    "c = int(input('라면 몇 개 주문하시겠어요?'))\n",
    "print('김밥주문갯수:' ,a )\n",
    "print('떡볶이주문갯수:' ,b )\n",
    "print('라면주문갯수:',c)\n",
    "print('지불하실 금액은 ' ,3000*a + 3500*b + 2500*c, '입니다.')\n",
    "              "
   ]
  },
  {
   "cell_type": "code",
   "execution_count": 76,
   "metadata": {},
   "outputs": [
    {
     "name": "stdout",
     "output_type": "stream",
     "text": [
      "1000.23 *230.123 = 230,176.85\n"
     ]
    }
   ],
   "source": [
    "a = float(input(\"첫 번째 값 입력: \"))\n",
    "b = float(input(\"두 번째 값 입력: \"))\n",
    "\n",
    "print(f'{a:.2f} *{b:.3f} = {a*b:,.2f}')"
   ]
  },
  {
   "cell_type": "code",
   "execution_count": 88,
   "metadata": {},
   "outputs": [
    {
     "name": "stdout",
     "output_type": "stream",
     "text": [
      "반지름:  150.7 cm\n",
      "원의 둘레: 946.4 cm\n",
      "원의 넓이: 71309.0 ㎤\n"
     ]
    }
   ],
   "source": [
    "a = float(input(\"원의 반지름 입력(cm): \"))\n",
    "print(f'반지름:  {a:.1f} cm')\n",
    "print(f'원의 둘레: {a*2*3.14:.1f} cm')\n",
    "print(f'원의 넓이: {a**2*3.14:.1f} ㎤')"
   ]
  },
  {
   "cell_type": "code",
   "execution_count": 89,
   "metadata": {},
   "outputs": [
    {
     "data": {
      "text/plain": [
       "float"
      ]
     },
     "execution_count": 89,
     "metadata": {},
     "output_type": "execute_result"
    }
   ],
   "source": [
    "type(a)"
   ]
  },
  {
   "cell_type": "code",
   "execution_count": null,
   "metadata": {},
   "outputs": [],
   "source": [
    "money = False\n",
    "\n",
    "if money:\n",
    "    print('맛난거 먹기')\n",
    "    print('노래방도 가고')\n",
    "    print('영화도 보고')"
   ]
  },
  {
   "cell_type": "code",
   "execution_count": 91,
   "metadata": {},
   "outputs": [
    {
     "name": "stdout",
     "output_type": "stream",
     "text": [
      "짝수입니다\n"
     ]
    }
   ],
   "source": [
    "num = int(input('숫자를 입력하세요'))\n",
    "\n",
    "if num%2==1:\n",
    "    print('홀수입니다')\n",
    "else:\n",
    "    print('짝수입니다')"
   ]
  },
  {
   "cell_type": "code",
   "execution_count": 92,
   "metadata": {},
   "outputs": [
    {
     "name": "stdout",
     "output_type": "stream",
     "text": [
      "C\n"
     ]
    }
   ],
   "source": [
    "grade = int(input('점수를 입력하세요'))\n",
    "\n",
    "if grade >=90:\n",
    "    print('A')\n",
    "elif grade >=80:\n",
    "    print('B')\n",
    "elif grade >=70:\n",
    "    print('C')\n",
    "elif grade >=60:\n",
    "    print('D')\n",
    "else :\n",
    "    print('F')\n"
   ]
  },
  {
   "cell_type": "code",
   "execution_count": 93,
   "metadata": {},
   "outputs": [
    {
     "name": "stdout",
     "output_type": "stream",
     "text": [
      "월요일에 구매가 가능합니다.\n"
     ]
    }
   ],
   "source": [
    "year = int(input('출생연도를 입력하세요'))%10\n",
    "age = int(input('나이를 입력하세요'))\n",
    "\n",
    "if age >65:\n",
    "    print('언제든지 마스크 구매가 가능합니다.')\n",
    "elif year ==1 or year==6:\n",
    "    print('월요일에 구매가 가능합니다.')\n",
    "elif year ==2 or year==7:\n",
    "    print('화요일에 구매가 가능합니다.')\n",
    "elif year ==3 or year==8:\n",
    "    print('수요일에 구매가 가능합니다.')\n",
    "elif year ==4 or year==9:\n",
    "    print('목요일에 구매가 가능합니다.')\n",
    "else:\n",
    "    print('금요일에 구매가 가능합니다.')\n"
   ]
  },
  {
   "cell_type": "code",
   "execution_count": 94,
   "metadata": {},
   "outputs": [
    {
     "name": "stdout",
     "output_type": "stream",
     "text": [
      "정상체중입니다.\n"
     ]
    }
   ],
   "source": [
    "tall = int(input('키를 입력해주세요(cm)'))/100\n",
    "weight = int(input('몸무게를 입력해주세요(kg)'))\n",
    "BMI = weight/(tall*tall)\n",
    "if BMI >=25:\n",
    "    print('비만입니다.')\n",
    "elif BMI >=23:\n",
    "    print('과체중입니다')\n",
    "elif BMI >=18.5:\n",
    "    print('정상체중입니다.')\n",
    "else:\n",
    "    print('저체중입니다.')\n"
   ]
  },
  {
   "cell_type": "code",
   "execution_count": 99,
   "metadata": {},
   "outputs": [
    {
     "name": "stdout",
     "output_type": "stream",
     "text": [
      "홀수 차량 운행날입니다. 운행불가능합니다.\n"
     ]
    }
   ],
   "source": [
    "day = int(input('오늘은 몇 일?'))\n",
    "\n",
    "if day <1 or day>31:\n",
    "    print('일(day) 입력오류입니다.')\n",
    "    breakpoint\n",
    "else: \n",
    "    a=day%2\n",
    "\n",
    "num = (input('차량번호 4자리 입력?(예:1234)'))\n",
    "if len(num)<4 or len(num)>4:\n",
    "    print('차량번호 입력 오류입니다.')\n",
    "    breakpoint\n",
    "else:\n",
    "    b=int(num)%2\n",
    "\n",
    "if a ==1 and b ==1:\n",
    "    print('홀수 차량 운행날입니다.','운행가능합니다')\n",
    "elif a ==1 and b ==0:\n",
    "    print('홀수 차량 운행날입니다.','운행불가능합니다.')\n",
    "elif a ==0 and b==1:\n",
    "    print('짝수 차량 운행날입니다.','운전불가능합니다.')\n",
    "else:\n",
    "    print('짝수 차량 운행날입니다.','운행가능합니다.')\n",
    "\n"
   ]
  },
  {
   "cell_type": "code",
   "execution_count": 3,
   "metadata": {},
   "outputs": [
    {
     "name": "stdout",
     "output_type": "stream",
     "text": [
      "유진 님 안녕하세요?\n",
      "오늘로 12회 방문하셨어요\n"
     ]
    }
   ],
   "source": [
    "name = input('이름을 입력해주세요: ')\n",
    "num = int(input('방문 횟수를 입력하세요: '))\n",
    "\n",
    "print(f'{name} 님 안녕하세요?')\n",
    "print(f'오늘로 {num+1}회 방문하셨어요')"
   ]
  },
  {
   "cell_type": "code",
   "execution_count": 9,
   "metadata": {},
   "outputs": [
    {
     "name": "stdout",
     "output_type": "stream",
     "text": [
      "1 99 12 25 991225 1234567\n"
     ]
    }
   ],
   "source": [
    "jumin ='991225-1234567'\n",
    "\n",
    "print(jumin[7],\n",
    "jumin[0:2],\n",
    "jumin[2:4],\n",
    "jumin[4:6],\n",
    "jumin[0:6],\n",
    "jumin[7:])"
   ]
  },
  {
   "cell_type": "code",
   "execution_count": 16,
   "metadata": {},
   "outputs": [
    {
     "name": "stdout",
     "output_type": "stream",
     "text": [
      "역삼역 도어읽 로꾸거 역삼역 도어읽 로으앞 .다니입역삼역 ,역삼역 은역번이\n"
     ]
    }
   ],
   "source": [
    "string = '이번역은 역삼역, 역삼역입니다. 앞으로 읽어도 역삼역 거꾸로 읽어도 역삼역'\n",
    "print(string[-1::-1])"
   ]
  },
  {
   "cell_type": "code",
   "execution_count": null,
   "metadata": {},
   "outputs": [
    {
     "name": "stdout",
     "output_type": "stream",
     "text": [
      "로그인에 성공했습니다.\n"
     ]
    }
   ],
   "source": [
    "user_id ='admin'\n",
    "user_pw ='1234'\n",
    "\n",
    "id = input('아이디를 입력해주세요: ')\n",
    "pw = input('비밀번호를 입력해주세요: ')\n",
    "if user_id != id :\n",
    "    print(\"존재하지 않는 아이디입니다.\")\n",
    "elif user_id == id and user_pw != pw:\n",
    "    print('올바르지 않은 비밀번호입니다.')\n",
    "else:\n",
    "    print('로그인에 성공했습니다.')\n"
   ]
  },
  {
   "cell_type": "code",
   "execution_count": 31,
   "metadata": {},
   "outputs": [
    {
     "name": "stdout",
     "output_type": "stream",
     "text": [
      "1 2 3 4 5 6 7 8 9 10 11 12 13 14 15 16 17 18 19 20 반복문 종료\n"
     ]
    }
   ],
   "source": [
    "i = 0\n",
    "while i < 20:\n",
    "    i = i+1\n",
    "    print(f'{i}',end=\" \")\n",
    "    \n",
    "print('반복문 종료')"
   ]
  },
  {
   "cell_type": "code",
   "execution_count": 32,
   "metadata": {},
   "outputs": [
    {
     "name": "stdout",
     "output_type": "stream",
     "text": [
      "5050\n"
     ]
    }
   ],
   "source": [
    "a = 1\n",
    "b = 0\n",
    "i = int(input('합을 원하는 정수 값 입력: '))\n",
    "while a <= i:\n",
    "    b = b + a\n",
    "    a = a +1\n",
    "print(f'{b}')"
   ]
  },
  {
   "cell_type": "code",
   "execution_count": 43,
   "metadata": {},
   "outputs": [
    {
     "name": "stdout",
     "output_type": "stream",
     "text": [
      "36\n"
     ]
    }
   ],
   "source": [
    "a = 1\n",
    "b = 0\n",
    "i=int(input('합을 원하는 정수 값 입력: '))\n",
    "while a <= (i+1)//2:\n",
    "    b = b+2*a-1\n",
    "    a = a+1\n",
    "print(f'{b}')"
   ]
  },
  {
   "cell_type": "code",
   "execution_count": 3,
   "metadata": {},
   "outputs": [
    {
     "name": "stdout",
     "output_type": "stream",
     "text": [
      "\n",
      "1. ADD\n",
      "2. DEL\n",
      "3. QUIT\n",
      "\n",
      "ENTER NUMBER:\n",
      "\n",
      "\n",
      "\n",
      "1. ADD\n",
      "2. DEL\n",
      "3. QUIT\n",
      "\n",
      "ENTER NUMBER:\n",
      "\n",
      "\n",
      "\n",
      "1. ADD\n",
      "2. DEL\n",
      "3. QUIT\n",
      "\n",
      "ENTER NUMBER:\n",
      "\n",
      "\n",
      "\n",
      "1. ADD\n",
      "2. DEL\n",
      "3. QUIT\n",
      "\n",
      "ENTER NUMBER:\n",
      "\n",
      "\n"
     ]
    }
   ],
   "source": [
    "prompt =\"\"\"\n",
    "1. ADD\n",
    "2. DEL\n",
    "3. QUIT\n",
    "\n",
    "ENTER NUMBER:\n",
    "\n",
    "\"\"\"\n",
    "input_num = 0\n",
    "while input_num !=3:\n",
    "    print(prompt)\n",
    "    input_num = int(input())\n"
   ]
  },
  {
   "cell_type": "code",
   "execution_count": 4,
   "metadata": {},
   "outputs": [
    {
     "name": "stdout",
     "output_type": "stream",
     "text": [
      "hello python\n",
      "hello python\n",
      "hello python\n",
      "hello python\n",
      "hello python\n"
     ]
    }
   ],
   "source": [
    "for i in \"hello\":\n",
    "    print('hello python')"
   ]
  },
  {
   "cell_type": "code",
   "execution_count": 5,
   "metadata": {},
   "outputs": [
    {
     "name": "stdout",
     "output_type": "stream",
     "text": [
      "hello python\n",
      "hello python\n",
      "hello python\n",
      "hello python\n",
      "hello python\n"
     ]
    }
   ],
   "source": [
    "for i in range(5):\n",
    "    print('hello python')"
   ]
  },
  {
   "cell_type": "code",
   "execution_count": 6,
   "metadata": {},
   "outputs": [
    {
     "name": "stdout",
     "output_type": "stream",
     "text": [
      "0\n",
      "1\n",
      "2\n",
      "3\n",
      "4\n"
     ]
    }
   ],
   "source": [
    "for i in range(5):\n",
    "    print(i)"
   ]
  },
  {
   "cell_type": "code",
   "execution_count": 7,
   "metadata": {},
   "outputs": [
    {
     "name": "stdout",
     "output_type": "stream",
     "text": [
      "0\n",
      "1\n",
      "2\n",
      "3\n",
      "4\n",
      "5\n",
      "6\n",
      "7\n",
      "8\n",
      "9\n"
     ]
    }
   ],
   "source": [
    "for i in range(0,10,1):\n",
    "    print(i)\n"
   ]
  },
  {
   "cell_type": "code",
   "execution_count": 8,
   "metadata": {},
   "outputs": [
    {
     "name": "stdout",
     "output_type": "stream",
     "text": [
      "10\n",
      "9\n",
      "8\n",
      "7\n",
      "6\n",
      "5\n",
      "4\n",
      "3\n",
      "2\n",
      "1\n"
     ]
    }
   ],
   "source": [
    "for i in range(10,0,-1):\n",
    "    print(i)"
   ]
  },
  {
   "cell_type": "code",
   "execution_count": 9,
   "metadata": {},
   "outputs": [
    {
     "name": "stdout",
     "output_type": "stream",
     "text": [
      "5050\n"
     ]
    }
   ],
   "source": [
    "num = int(input('정수 값을 입력해주세요'))\n",
    "a = 0\n",
    "for i in range(num):\n",
    "    i=i+1\n",
    "    a = a+i\n",
    "print(f'{a}')"
   ]
  },
  {
   "cell_type": "code",
   "execution_count": null,
   "metadata": {},
   "outputs": [
    {
     "name": "stdout",
     "output_type": "stream",
     "text": [
      "9*1 = 9\n",
      "9*2 = 18\n",
      "9*3 = 27\n",
      "9*4 = 36\n",
      "9*5 = 45\n",
      "9*6 = 54\n",
      "9*7 = 63\n",
      "9*8 = 72\n",
      "9*9 = 81\n"
     ]
    }
   ],
   "source": [
    "dan = int(input('출력할 단 입력: '))\n",
    "for i in range(1,10):\n",
    "    print(f'{dan}*{i} = {i*dan}')"
   ]
  },
  {
   "cell_type": "code",
   "execution_count": 15,
   "metadata": {},
   "outputs": [
    {
     "name": "stdout",
     "output_type": "stream",
     "text": [
      "9\n",
      "18\n",
      "27\n",
      "36\n",
      "45\n",
      "54\n",
      "63\n",
      "72\n",
      "81\n"
     ]
    }
   ],
   "source": [
    "dan= int(input('출력한 단 입력: '))\n",
    "p=1\n",
    "while p <=9:\n",
    "    print(f'{p*dan}')\n",
    "    p = p+1"
   ]
  },
  {
   "cell_type": "code",
   "execution_count": 27,
   "metadata": {},
   "outputs": [
    {
     "name": "stdout",
     "output_type": "stream",
     "text": [
      "2*1=2\n",
      "2*2=4\n",
      "2*3=6\n",
      "2*4=8\n",
      "2*5=10\n",
      "2*6=12\n",
      "2*7=14\n",
      "2*8=16\n",
      "2*9=18\n",
      "3*1=3\n",
      "3*2=6\n",
      "3*3=9\n",
      "3*4=12\n",
      "3*5=15\n",
      "3*6=18\n",
      "3*7=21\n",
      "3*8=24\n",
      "3*9=27\n",
      "4*1=4\n",
      "4*2=8\n",
      "4*3=12\n",
      "4*4=16\n",
      "4*5=20\n",
      "4*6=24\n",
      "4*7=28\n",
      "4*8=32\n",
      "4*9=36\n",
      "5*1=5\n",
      "5*2=10\n",
      "5*3=15\n",
      "5*4=20\n",
      "5*5=25\n",
      "5*6=30\n",
      "5*7=35\n",
      "5*8=40\n",
      "5*9=45\n",
      "6*1=6\n",
      "6*2=12\n",
      "6*3=18\n",
      "6*4=24\n",
      "6*5=30\n",
      "6*6=36\n",
      "6*7=42\n",
      "6*8=48\n",
      "6*9=54\n",
      "7*1=7\n",
      "7*2=14\n",
      "7*3=21\n",
      "7*4=28\n",
      "7*5=35\n",
      "7*6=42\n",
      "7*7=49\n",
      "7*8=56\n",
      "7*9=63\n",
      "8*1=8\n",
      "8*2=16\n",
      "8*3=24\n",
      "8*4=32\n",
      "8*5=40\n",
      "8*6=48\n",
      "8*7=56\n",
      "8*8=64\n",
      "8*9=72\n",
      "9*1=9\n",
      "9*2=18\n",
      "9*3=27\n",
      "9*4=36\n",
      "9*5=45\n",
      "9*6=54\n",
      "9*7=63\n",
      "9*8=72\n",
      "9*9=81\n"
     ]
    }
   ],
   "source": [
    "\n",
    "for q in range(2,10):\n",
    "    for i in range(1,10):\n",
    "        print(f'{q}*{i}={i*q}')\n",
    "        i=i+1\n",
    "    q=q+1"
   ]
  },
  {
   "cell_type": "code",
   "execution_count": 36,
   "metadata": {},
   "outputs": [
    {
     "name": "stdout",
     "output_type": "stream",
     "text": [
      "2*1=2\t3*1=3\t4*1=4\t5*1=5\t6*1=6\t7*1=7\t8*1=8\t9*1=9\t\n",
      "2*2=4\t3*2=6\t4*2=8\t5*2=10\t6*2=12\t7*2=14\t8*2=16\t9*2=18\t\n",
      "2*3=6\t3*3=9\t4*3=12\t5*3=15\t6*3=18\t7*3=21\t8*3=24\t9*3=27\t\n",
      "2*4=8\t3*4=12\t4*4=16\t5*4=20\t6*4=24\t7*4=28\t8*4=32\t9*4=36\t\n",
      "2*5=10\t3*5=15\t4*5=20\t5*5=25\t6*5=30\t7*5=35\t8*5=40\t9*5=45\t\n",
      "2*6=12\t3*6=18\t4*6=24\t5*6=30\t6*6=36\t7*6=42\t8*6=48\t9*6=54\t\n",
      "2*7=14\t3*7=21\t4*7=28\t5*7=35\t6*7=42\t7*7=49\t8*7=56\t9*7=63\t\n",
      "2*8=16\t3*8=24\t4*8=32\t5*8=40\t6*8=48\t7*8=56\t8*8=64\t9*8=72\t\n",
      "2*9=18\t3*9=27\t4*9=36\t5*9=45\t6*9=54\t7*9=63\t8*9=72\t9*9=81\t\n"
     ]
    }
   ],
   "source": [
    "for i in range(1,10):\n",
    "    for q in range(2,10):\n",
    "        print(f'{q}*{i}={i*q}', end=\"\\t\")\n",
    "        q=q+1\n",
    "    i=i+1\n",
    "    print('')\n",
    "    "
   ]
  },
  {
   "cell_type": "code",
   "execution_count": 39,
   "metadata": {},
   "outputs": [
    {
     "name": "stdout",
     "output_type": "stream",
     "text": [
      "6 21\n",
      "21\n"
     ]
    }
   ],
   "source": [
    "#break \n",
    "a=0\n",
    "for i in range(1,11):\n",
    "    a=a+i\n",
    "    if a>=20:\n",
    "        print(i,a)\n",
    "        break\n",
    "print(a)"
   ]
  },
  {
   "cell_type": "code",
   "execution_count": 43,
   "metadata": {},
   "outputs": [
    {
     "name": "stdout",
     "output_type": "stream",
     "text": [
      "\n",
      "1. ADD\n",
      "2. DEL\n",
      "3. QUIT\n",
      "\n",
      "ENTER NUMBER:\n",
      "\n",
      "\n",
      "\n",
      "1. ADD\n",
      "2. DEL\n",
      "3. QUIT\n",
      "\n",
      "ENTER NUMBER:\n",
      "\n",
      "\n",
      "\n",
      "1. ADD\n",
      "2. DEL\n",
      "3. QUIT\n",
      "\n",
      "ENTER NUMBER:\n",
      "\n",
      "\n"
     ]
    }
   ],
   "source": [
    "prompt =\"\"\"\n",
    "1. ADD\n",
    "2. DEL\n",
    "3. QUIT\n",
    "\n",
    "ENTER NUMBER:\n",
    "\n",
    "\"\"\"\n",
    "input_num = 0\n",
    "\n",
    "while True:\n",
    "    print(prompt)\n",
    "    input_num = int(input())\n",
    "    if input_num == 3:\n",
    "        break"
   ]
  },
  {
   "cell_type": "code",
   "execution_count": 49,
   "metadata": {},
   "outputs": [
    {
     "name": "stdout",
     "output_type": "stream",
     "text": [
      "1 3 5 7 9 \n",
      " 25\n"
     ]
    }
   ],
   "source": [
    "a=0\n",
    "for i in range(1,11):\n",
    "    if i %2 == 0:\n",
    "        continue\n",
    "    a=a+i\n",
    "    print(i, end=\" \")\n",
    "\n",
    "print('\\n',a)\n"
   ]
  },
  {
   "cell_type": "code",
   "execution_count": 66,
   "metadata": {},
   "outputs": [
    {
     "name": "stdout",
     "output_type": "stream",
     "text": [
      "너무 커요\n",
      "너무 커요\n",
      "너무 커요\n",
      "너무 커요\n",
      "너무 커요\n",
      "정답입니다.\n",
      "6회 만에 맞추셨습니다.\n"
     ]
    }
   ],
   "source": [
    "import random\n",
    "answer=random.randint(1,100)\n",
    "a=0\n",
    "i=0\n",
    "while answer!=a:\n",
    "    a=int(input('1부터 100사이의 숫자를 맞춰주세요: '))\n",
    "    if a>answer:\n",
    "        print('너무 커요')\n",
    "        i=i+1\n",
    "    elif a<answer:\n",
    "        print('너무 작아요')\n",
    "        i=i+1\n",
    "    else: \n",
    "        print('정답입니다.')\n",
    "        i=i+1\n",
    "        break\n",
    "print(f'{i}회 만에 맞추셨습니다.')"
   ]
  },
  {
   "cell_type": "code",
   "execution_count": null,
   "metadata": {},
   "outputs": [
    {
     "name": "stdout",
     "output_type": "stream",
     "text": [
      "너무 작아요\n",
      "너무 작아요\n",
      "너무 작아요\n",
      "너무 작아요\n",
      "너무 커요\n",
      "너무 커요\n",
      "너무 커요\n",
      "정답입니다.\n",
      "10회를 모두 사용하셨습니다.\n"
     ]
    }
   ],
   "source": [
    "import random\n",
    "answer=random.randint(1,100)\n",
    "a=0\n",
    "b=int(input('모드를 정해주세요(10회모드는 1 무한모드는 2 입력)'))\n",
    "if b==1:\n",
    "    for i in range(10):\n",
    "        a=int(input('1부터 100사이의 숫자를 맞춰주세요: '))\n",
    "        if a>answer:\n",
    "            print('너무 커요')\n",
    "            \n",
    "        elif a<answer:\n",
    "            print('너무 작아요')\n",
    "            \n",
    "        else: \n",
    "            print('정답입니다.')\n",
    "            break\n",
    "elif b==2:\n",
    "    while answer!=a:\n",
    "        a=int(input('1부터 100사이의 숫자를 맞춰주세요: '))\n",
    "        if a>answer:\n",
    "            print('너무 커요')\n",
    "            \n",
    "        elif a<answer:\n",
    "            print('너무 작아요')\n",
    "            \n",
    "        else: \n",
    "            print('정답입니다.')\n",
    "            break"
   ]
  },
  {
   "cell_type": "code",
   "execution_count": 76,
   "metadata": {},
   "outputs": [
    {
     "name": "stdout",
     "output_type": "stream",
     "text": [
      "1 2 4 7 8 11 13 14 16 17 19 22 "
     ]
    }
   ],
   "source": [
    "x=int(input('숫자를 입력해주세요: '))\n",
    "a=0\n",
    "while True:\n",
    "    if a%3==0:\n",
    "        a=a+1\n",
    "        continue\n",
    "    elif a%5==0:\n",
    "        a=a+1\n",
    "        continue\n",
    "    elif a==x+1:\n",
    "        break\n",
    "    else:\n",
    "        print(a,end=\" \")\n",
    "        a=a+1\n",
    "    \n"
   ]
  },
  {
   "cell_type": "code",
   "execution_count": 159,
   "metadata": {},
   "outputs": [
    {
     "name": "stdout",
     "output_type": "stream",
     "text": [
      "*\n",
      "**\n",
      "***\n",
      "****\n",
      "*****\n",
      "******\n",
      "*******\n",
      "********\n",
      "*********\n",
      "**********\n",
      "\n"
     ]
    }
   ],
   "source": [
    "\n",
    "for i in range(1,11):\n",
    "    print('*'*(i))\n",
    "print(\"\")"
   ]
  },
  {
   "cell_type": "markdown",
   "metadata": {},
   "source": [
    "LIST"
   ]
  },
  {
   "cell_type": "code",
   "execution_count": 171,
   "metadata": {},
   "outputs": [
    {
     "name": "stdout",
     "output_type": "stream",
     "text": [
      "<class 'int'>\n",
      "[2, 'hi']\n"
     ]
    }
   ],
   "source": [
    "a=[1,2,3]\n",
    "b=['Life', 'is','too','short']\n",
    "c=[1,'hello']\n",
    "d=[1,'hello',[2,'hi']]\n",
    "print(type(a[0]))\n",
    "print(d[2])"
   ]
  },
  {
   "cell_type": "code",
   "execution_count": 162,
   "metadata": {},
   "outputs": [
    {
     "name": "stdout",
     "output_type": "stream",
     "text": [
      "Life\n"
     ]
    }
   ],
   "source": [
    "b=['Life', 'is','too','short']\n",
    "print(b[0])"
   ]
  },
  {
   "cell_type": "code",
   "execution_count": 167,
   "metadata": {},
   "outputs": [
    {
     "data": {
      "text/plain": [
       "['Life', 'is', 'too']"
      ]
     },
     "execution_count": 167,
     "metadata": {},
     "output_type": "execute_result"
    }
   ],
   "source": [
    "b=['Life', 'is','too','short']\n",
    "b[:3]"
   ]
  },
  {
   "cell_type": "code",
   "execution_count": 168,
   "metadata": {},
   "outputs": [
    {
     "data": {
      "text/plain": [
       "['Life', 'is', 'too', 'short']"
      ]
     },
     "execution_count": 168,
     "metadata": {},
     "output_type": "execute_result"
    }
   ],
   "source": [
    "b[:]"
   ]
  },
  {
   "cell_type": "code",
   "execution_count": 169,
   "metadata": {},
   "outputs": [
    {
     "data": {
      "text/plain": [
       "'Life'"
      ]
     },
     "execution_count": 169,
     "metadata": {},
     "output_type": "execute_result"
    }
   ],
   "source": [
    "b[0]"
   ]
  },
  {
   "cell_type": "code",
   "execution_count": 173,
   "metadata": {},
   "outputs": [
    {
     "data": {
      "text/plain": [
       "2"
      ]
     },
     "execution_count": 173,
     "metadata": {},
     "output_type": "execute_result"
    }
   ],
   "source": [
    "d=[1,'hello',[2,'hi']]\n",
    "d[2][0]"
   ]
  },
  {
   "cell_type": "code",
   "execution_count": 175,
   "metadata": {},
   "outputs": [
    {
     "data": {
      "text/plain": [
       "['a', 'b']"
      ]
     },
     "execution_count": 175,
     "metadata": {},
     "output_type": "execute_result"
    }
   ],
   "source": [
    "a = [1,2,3, ['a','b','c'],4,5]\n",
    "a[3][:2]"
   ]
  },
  {
   "cell_type": "code",
   "execution_count": 178,
   "metadata": {},
   "outputs": [
    {
     "name": "stdout",
     "output_type": "stream",
     "text": [
      "[10, 20, 30, 40, 50]\n",
      "[10, 100, 40, 50]\n"
     ]
    }
   ],
   "source": [
    "a=[10,20,30,40,50]\n",
    "print(a)\n",
    "a[1:3]=[100]\n",
    "print(a)"
   ]
  },
  {
   "cell_type": "code",
   "execution_count": 179,
   "metadata": {},
   "outputs": [
    {
     "data": {
      "text/plain": [
       "100"
      ]
     },
     "execution_count": 179,
     "metadata": {},
     "output_type": "execute_result"
    }
   ],
   "source": [
    "max(a)"
   ]
  },
  {
   "cell_type": "code",
   "execution_count": 180,
   "metadata": {},
   "outputs": [
    {
     "data": {
      "text/plain": [
       "200"
      ]
     },
     "execution_count": 180,
     "metadata": {},
     "output_type": "execute_result"
    }
   ],
   "source": [
    "sum(a)"
   ]
  },
  {
   "cell_type": "code",
   "execution_count": 181,
   "metadata": {},
   "outputs": [
    {
     "data": {
      "text/plain": [
       "list"
      ]
     },
     "execution_count": 181,
     "metadata": {},
     "output_type": "execute_result"
    }
   ],
   "source": [
    "type(a)"
   ]
  },
  {
   "cell_type": "code",
   "execution_count": 182,
   "metadata": {},
   "outputs": [
    {
     "ename": "TypeError",
     "evalue": "unsupported operand type(s) for +: 'int' and 'str'",
     "output_type": "error",
     "traceback": [
      "\u001b[1;31m---------------------------------------------------------------------------\u001b[0m",
      "\u001b[1;31mTypeError\u001b[0m                                 Traceback (most recent call last)",
      "Cell \u001b[1;32mIn[182], line 1\u001b[0m\n\u001b[1;32m----> 1\u001b[0m \u001b[38;5;28;43msum\u001b[39;49m\u001b[43m(\u001b[49m\u001b[43md\u001b[49m\u001b[43m)\u001b[49m\n",
      "\u001b[1;31mTypeError\u001b[0m: unsupported operand type(s) for +: 'int' and 'str'"
     ]
    }
   ],
   "source": [
    "sum(d)"
   ]
  },
  {
   "cell_type": "code",
   "execution_count": 183,
   "metadata": {},
   "outputs": [
    {
     "name": "stdout",
     "output_type": "stream",
     "text": [
      "['apple', 'banana']\n",
      "['apple', 'banana', 'cherry']\n"
     ]
    }
   ],
   "source": [
    "fruits=['apple','banana']\n",
    "print(fruits)\n",
    "fruits.append('cherry')\n",
    "print(fruits)"
   ]
  },
  {
   "cell_type": "code",
   "execution_count": 184,
   "metadata": {},
   "outputs": [
    {
     "name": "stdout",
     "output_type": "stream",
     "text": [
      "['apple', 'banana', 'cherry']\n",
      "['apple', 'mango', 'banana', 'cherry']\n"
     ]
    }
   ],
   "source": [
    "print(fruits)\n",
    "fruits.insert(1,'mango')\n",
    "print(fruits)"
   ]
  },
  {
   "cell_type": "code",
   "execution_count": 185,
   "metadata": {},
   "outputs": [
    {
     "name": "stdout",
     "output_type": "stream",
     "text": [
      "['apple', 'mango', 'banana']\n"
     ]
    }
   ],
   "source": [
    "fruits.remove('cherry')\n",
    "print(fruits)"
   ]
  },
  {
   "cell_type": "code",
   "execution_count": 186,
   "metadata": {},
   "outputs": [
    {
     "name": "stdout",
     "output_type": "stream",
     "text": [
      "['apple', 'banana']\n"
     ]
    }
   ],
   "source": [
    "fruits.pop(1)\n",
    "print(fruits)"
   ]
  },
  {
   "cell_type": "code",
   "execution_count": 187,
   "metadata": {},
   "outputs": [],
   "source": [
    "score=[100,30,50,80,90,70]"
   ]
  },
  {
   "cell_type": "code",
   "execution_count": 189,
   "metadata": {},
   "outputs": [
    {
     "name": "stdout",
     "output_type": "stream",
     "text": [
      "[30, 50, 70, 80, 90, 100]\n",
      "[100, 90, 80, 70, 50, 30]\n"
     ]
    }
   ],
   "source": [
    "print(score)\n",
    "score.reverse()\n",
    "print(score)\n"
   ]
  },
  {
   "cell_type": "code",
   "execution_count": 190,
   "metadata": {},
   "outputs": [
    {
     "data": {
      "text/plain": [
       "6"
      ]
     },
     "execution_count": 190,
     "metadata": {},
     "output_type": "execute_result"
    }
   ],
   "source": [
    "len(score)"
   ]
  },
  {
   "cell_type": "code",
   "execution_count": 191,
   "metadata": {},
   "outputs": [
    {
     "data": {
      "text/plain": [
       "4"
      ]
     },
     "execution_count": 191,
     "metadata": {},
     "output_type": "execute_result"
    }
   ],
   "source": [
    "score=[100,50,30,50,80,50,90,50,70]\n",
    "score.count(50)"
   ]
  },
  {
   "cell_type": "code",
   "execution_count": 193,
   "metadata": {},
   "outputs": [
    {
     "data": {
      "text/plain": [
       "570"
      ]
     },
     "execution_count": 193,
     "metadata": {},
     "output_type": "execute_result"
    }
   ],
   "source": [
    "sum(score)"
   ]
  },
  {
   "cell_type": "code",
   "execution_count": 195,
   "metadata": {},
   "outputs": [
    {
     "name": "stdout",
     "output_type": "stream",
     "text": [
      "1번 학생 합격입니다\n",
      "2번 학생 불합격입니다\n",
      "3번 학생 합격입니다\n",
      "4번 학생 불합격입니다\n",
      "5번 학생 합격입니다\n"
     ]
    }
   ],
   "source": [
    "marks = [90,25,67,45,80]\n",
    "for i in range(5):\n",
    "    if marks[i]>=60:\n",
    "        print(f'{i+1}번 학생 합격입니다')\n",
    "    else:\n",
    "        print(f'{i+1}번 학생 불합격입니다')\n"
   ]
  },
  {
   "cell_type": "code",
   "execution_count": null,
   "metadata": {},
   "outputs": [],
   "source": [
    "prompt=\"\"\"\n",
    "과일 가게에 오신 것을 환영합니다!\n",
    "오늘 판매하는 과일: ['사과','바나나','오렌지','포도','수박']\n",
    "\"\"\"\n",
    "\n",
    "fruit=['사과'*3,'바나나'*3,'오렌지'*3,'포도'*3,'수박'*3]\n"
   ]
  },
  {
   "cell_type": "code",
   "execution_count": 207,
   "metadata": {},
   "outputs": [
    {
     "name": "stdout",
     "output_type": "stream",
     "text": [
      "끝말잇기 게임\n",
      "시작\n",
      "가나다\n",
      "단어를 입력해주세요:  다리미\n",
      "단어를 입력해주세요:  미어캣\n",
      "단어를 입력해주세요:  안녕\n",
      "땡\n"
     ]
    }
   ],
   "source": [
    "print(\"끝말잇기 게임\")\n",
    "print(\"시작\")\n",
    "var=\"가나다\"\n",
    "print(var)\n",
    "while True:\n",
    "    a=input('단어를 입력해주세요: ')\n",
    "    print('단어를 입력해주세요: ',a)\n",
    "    if var[-1]==a[0]:\n",
    "        var = a\n",
    "    else:\n",
    "        print('땡')\n",
    "        break\n",
    "\n",
    "\n"
   ]
  },
  {
   "cell_type": "code",
   "execution_count": 13,
   "metadata": {},
   "outputs": [
    {
     "name": "stdout",
     "output_type": "stream",
     "text": [
      "현재 재고:[',a.count('사과'),a.count('바나나나'),a.count('오렌지'),a.count('포도'),a.count('수박') ']\n",
      "사과를 구매하셨습니다! 남은 사과의 재고: 2\n",
      "현재 재고:[',a.count('사과'),a.count('바나나나'),a.count('오렌지'),a.count('포도'),a.count('수박') ']\n",
      "사과를 구매하셨습니다! 남은 사과의 재고: 1\n",
      "현재 재고:[',a.count('사과'),a.count('바나나나'),a.count('오렌지'),a.count('포도'),a.count('수박') ']\n",
      "사과를 구매하셨습니다! 남은 사과의 재고: 0\n",
      "현재 재고:[',a.count('사과'),a.count('바나나나'),a.count('오렌지'),a.count('포도'),a.count('수박') ']\n",
      "바나나를 구매하셨습니다! 남은 바나나나의 재고: 2\n",
      "현재 재고:[',a.count('사과'),a.count('바나나나'),a.count('오렌지'),a.count('포도'),a.count('수박') ']\n",
      "바나나를 구매하셨습니다! 남은 바나나나의 재고: 1\n",
      "현재 재고:[',a.count('사과'),a.count('바나나나'),a.count('오렌지'),a.count('포도'),a.count('수박') ']\n",
      "바나나를 구매하셨습니다! 남은 바나나나의 재고: 0\n",
      "현재 재고:[',a.count('사과'),a.count('바나나나'),a.count('오렌지'),a.count('포도'),a.count('수박') ']\n",
      "오렌지를 구매하셨습니다! 남은 오렌지의 재고: 2\n",
      "현재 재고:[',a.count('사과'),a.count('바나나나'),a.count('오렌지'),a.count('포도'),a.count('수박') ']\n",
      "오렌지를 구매하셨습니다! 남은 오렌지의 재고: 1\n",
      "현재 재고:[',a.count('사과'),a.count('바나나나'),a.count('오렌지'),a.count('포도'),a.count('수박') ']\n",
      "오렌지를 구매하셨습니다! 남은 오렌지의 재고: 0\n",
      "현재 재고:[',a.count('사과'),a.count('바나나나'),a.count('오렌지'),a.count('포도'),a.count('수박') ']\n",
      "포도를 구매하셨습니다! 남은 포도의 재고: 2\n",
      "현재 재고:[',a.count('사과'),a.count('바나나나'),a.count('오렌지'),a.count('포도'),a.count('수박') ']\n",
      "포도를 구매하셨습니다! 남은 포도의 재고: 1\n",
      "현재 재고:[',a.count('사과'),a.count('바나나나'),a.count('오렌지'),a.count('포도'),a.count('수박') ']\n",
      "포도를 구매하셨습니다! 남은 포도의 재고: 0\n",
      "현재 재고:[',a.count('사과'),a.count('바나나나'),a.count('오렌지'),a.count('포도'),a.count('수박') ']\n",
      "수박을 구매하셨습니다! 남은 수박의 재고: 2\n",
      "현재 재고:[',a.count('사과'),a.count('바나나나'),a.count('오렌지'),a.count('포도'),a.count('수박') ']\n",
      "수박을 구매하셨습니다! 남은 수박의 재고: 1\n",
      "현재 재고:[',a.count('사과'),a.count('바나나나'),a.count('오렌지'),a.count('포도'),a.count('수박') ']\n",
      "수박을 구매하셨습니다! 남은 수박의 재고: 0\n",
      "모든 과일이 다 팔렸습니다. 가게를 종료합니다.\n"
     ]
    }
   ],
   "source": [
    "prompt=\"\"\"\n",
    "과일 가게에 오신 것을 환영합니다!\n",
    "오늘 판매하는 과일:['사과', '바나나','오렌지','포도','수박'] \n",
    "\"\"\"\n",
    "a=['사과','사과','사과','바나나','바나나','바나나','오렌지','오렌지','오렌지','포도','포도','포도','수박','수박','수박']\n",
    "a.count('사과')\n",
    "while len(a)!=0:\n",
    "    choose=input('어떤 과일을 구매하시겠습니까? (종료하려면 \"그만\"을 입력하세요): ')\n",
    "    print(\"현재 재고:[',a.count('사과'),a.count('바나나나'),a.count('오렌지'),a.count('포도'),a.count('수박') ']\")\n",
    "    if choose=='그만':\n",
    "        break\n",
    "    elif choose=='사과':\n",
    "        a.remove('사과')\n",
    "        print('사과를 구매하셨습니다! 남은 사과의 재고:', a.count('사과'))\n",
    "    elif choose=='바나나':\n",
    "        a.remove('바나나')\n",
    "        print('바나나를 구매하셨습니다! 남은 바나나나의 재고:', a.count('바나나'))\n",
    "    elif choose=='오렌지':\n",
    "        a.remove('오렌지')\n",
    "        print('오렌지를 구매하셨습니다! 남은 오렌지의 재고:', a.count('오렌지'))\n",
    "    elif choose=='수박':\n",
    "        a.remove('수박')\n",
    "        print('수박을 구매하셨습니다! 남은 수박의 재고:', a.count('수박'))\n",
    "    elif choose=='포도':\n",
    "        a.remove('포도')\n",
    "        print('포도를 구매하셨습니다! 남은 포도의 재고:', a.count('포도'))\n",
    "    else:\n",
    "        break\n",
    "print('모든 과일이 다 팔렸습니다. 가게를 종료합니다.')\n",
    "\n",
    "\n"
   ]
  },
  {
   "cell_type": "code",
   "execution_count": null,
   "metadata": {},
   "outputs": [],
   "source": []
  },
  {
   "cell_type": "code",
   "execution_count": 9,
   "metadata": {},
   "outputs": [
    {
     "data": {
      "text/plain": [
       "0"
      ]
     },
     "execution_count": 9,
     "metadata": {},
     "output_type": "execute_result"
    }
   ],
   "source": [
    "len(a)"
   ]
  },
  {
   "cell_type": "code",
   "execution_count": null,
   "metadata": {},
   "outputs": [],
   "source": []
  }
 ],
 "metadata": {
  "kernelspec": {
   "display_name": "Python 3",
   "language": "python",
   "name": "python3"
  },
  "language_info": {
   "codemirror_mode": {
    "name": "ipython",
    "version": 3
   },
   "file_extension": ".py",
   "mimetype": "text/x-python",
   "name": "python",
   "nbconvert_exporter": "python",
   "pygments_lexer": "ipython3",
   "version": "3.13.1"
  }
 },
 "nbformat": 4,
 "nbformat_minor": 2
}
