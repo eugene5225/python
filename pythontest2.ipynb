{
 "cells": [
  {
   "cell_type": "code",
   "execution_count": null,
   "metadata": {},
   "outputs": [],
   "source": [
    "for i in range(2,10):\n",
    "    for a in range(1,10):\n",
    "        print(i*a,end=\"\\t\")\n",
    "    print(\" \")"
   ]
  },
  {
   "cell_type": "code",
   "execution_count": null,
   "metadata": {},
   "outputs": [],
   "source": [
    "a=0\n",
    "while a<10:\n",
    "    b=int(input(\"300원입니다 :\"))\n",
    "    if b==300:\n",
    "        a=a+1\n",
    "        print('커피 한잔 드립니다.')\n",
    "        print(f'남은 커피는 {10-a}잔')\n",
    "    elif b>300:\n",
    "        a=a+1\n",
    "        print('커피 한잔 드립니다.')\n",
    "        print(f'남은 커피는 {10-a}잔')\n",
    "        print(f'거스름돈:{b-300}원',)\n",
    "    else:\n",
    "        print(f'금액이 부족해 돈을 돌려드립니다.{b}원 남은 커피는 {10-a}잔')\n",
    "print('커피가 모두 팔려 판매를 종료합니다.')\n"
   ]
  },
  {
   "cell_type": "code",
   "execution_count": null,
   "metadata": {},
   "outputs": [],
   "source": [
    "menu = {'김밥':2000, '라면':3000, '돈까스':5000}\n",
    "print(type(menu))\n"
   ]
  },
  {
   "cell_type": "code",
   "execution_count": null,
   "metadata": {},
   "outputs": [],
   "source": [
    "menu['김밥']"
   ]
  },
  {
   "cell_type": "code",
   "execution_count": null,
   "metadata": {},
   "outputs": [],
   "source": [
    "menu['김밥']=2500\n",
    "menu"
   ]
  },
  {
   "cell_type": "code",
   "execution_count": 27,
   "metadata": {},
   "outputs": [],
   "source": [
    "menu['떡볶이']=3000"
   ]
  },
  {
   "cell_type": "code",
   "execution_count": null,
   "metadata": {},
   "outputs": [],
   "source": [
    "menu['떡볶이']+=2000\n",
    "menu"
   ]
  },
  {
   "cell_type": "code",
   "execution_count": null,
   "metadata": {},
   "outputs": [],
   "source": [
    "menu.keys()"
   ]
  },
  {
   "cell_type": "code",
   "execution_count": null,
   "metadata": {},
   "outputs": [],
   "source": [
    "menu.values()"
   ]
  },
  {
   "cell_type": "code",
   "execution_count": null,
   "metadata": {},
   "outputs": [],
   "source": [
    "menu.itmes()"
   ]
  },
  {
   "cell_type": "code",
   "execution_count": null,
   "metadata": {},
   "outputs": [],
   "source": [
    "menu.items()"
   ]
  },
  {
   "cell_type": "code",
   "execution_count": null,
   "metadata": {},
   "outputs": [],
   "source": [
    "for menu in menu.keys():\n",
    "    print(menu)"
   ]
  },
  {
   "cell_type": "code",
   "execution_count": null,
   "metadata": {},
   "outputs": [],
   "source": [
    "for price in menu.values():\n",
    "    print(menu)"
   ]
  },
  {
   "cell_type": "code",
   "execution_count": null,
   "metadata": {},
   "outputs": [],
   "source": [
    "for price in menu.items():\n",
    "    print(price)"
   ]
  },
  {
   "cell_type": "code",
   "execution_count": null,
   "metadata": {},
   "outputs": [],
   "source": [
    "list(menu.keys())"
   ]
  },
  {
   "cell_type": "code",
   "execution_count": null,
   "metadata": {},
   "outputs": [],
   "source": [
    "menu"
   ]
  },
  {
   "cell_type": "code",
   "execution_count": null,
   "metadata": {},
   "outputs": [],
   "source": [
    "menu['떡볶이']=5000"
   ]
  },
  {
   "cell_type": "code",
   "execution_count": null,
   "metadata": {},
   "outputs": [],
   "source": [
    "menu.pop('김밥')"
   ]
  },
  {
   "cell_type": "code",
   "execution_count": null,
   "metadata": {},
   "outputs": [],
   "source": [
    "menu"
   ]
  },
  {
   "cell_type": "code",
   "execution_count": 45,
   "metadata": {},
   "outputs": [],
   "source": [
    "addrs=[{'name':2000,'phone':3000,'addr':5000},\n",
    "       {'name':2000,'phone':3000,'addr':5000},\n",
    "       {'name':2000,'phone':3000,'addr':5000}]\n"
   ]
  },
  {
   "cell_type": "code",
   "execution_count": null,
   "metadata": {},
   "outputs": [],
   "source": [
    "work=0\n",
    "a=1\n",
    "b=[]\n",
    "while a>0:\n",
    "    a=int(input('메뉴 선택(1:추가, 2:삭제, 0:종료) :'))\n",
    "    if a==0:\n",
    "        break\n",
    "    elif a==1:\n",
    "        TODO=input('할일 내용 입력>>')\n",
    "        work=work+1\n",
    "        print('************************')\n",
    "        b.append(TODO)\n",
    "        for i in range(1,work+1):\n",
    "            print(i,'.',b[i-1])\n",
    "\n",
    "    elif a==2:\n",
    "        END=input('완료한 내용 입력>>')\n",
    "        work = work-1\n",
    "        print('************************')\n",
    "        b.remove(END)\n",
    "        for i in range(1,work+1):\n",
    "            print(i,'.',b[i-1])\n",
    "        \n",
    "    else:\n",
    "        print('메뉴 선택 오류입니다. 다시선택해주세요')\n",
    "        continue\n",
    "print('프로그램을 종료합니다.')\n",
    "\n"
   ]
  },
  {
   "cell_type": "code",
   "execution_count": 61,
   "metadata": {},
   "outputs": [
    {
     "name": "stdout",
     "output_type": "stream",
     "text": [
      "*****************\n",
      "검색가능한 친구들:  list[dict_keys(['홍길동'])]\n",
      "홍길동 의 연락처 : 010-1111-1111\n",
      "*****************\n",
      "프로그램을 종료합니다!\n"
     ]
    }
   ],
   "source": [
    "people=0\n",
    "a=1\n",
    "f={}\n",
    "while a>0:\n",
    "    a=int(input('메뉴 선택(1:추가, 2:검색, 0:종료)?'))\n",
    "    if a==0:\n",
    "        break\n",
    "\n",
    "    elif a==1:\n",
    "        fna=input('친구 이름 입력>>')\n",
    "        fnu=input('전화번호 입력>>')\n",
    "        f[fna]=fnu\n",
    "        print(\"*****************\")\n",
    "\n",
    "\n",
    "    elif a==2:\n",
    "        print('검색가능한 친구들: ',list[f.keys()])\n",
    "        fna=input('친구이름 입력>>')\n",
    "        print(fna,'의 연락처', ':',f[fna])\n",
    "        print(\"*****************\")\n",
    "\n",
    "    else: print('메뉴 선택 오류입니다. 다시 선택하세요.')\n",
    "    continue\n",
    "\n",
    "print('프로그램을 종료합니다!')"
   ]
  },
  {
   "cell_type": "code",
   "execution_count": 74,
   "metadata": {},
   "outputs": [
    {
     "name": "stdout",
     "output_type": "stream",
     "text": [
      "입력단어-> 배고파 is: 사전에 찾는 단어가 없어요!\n",
      "입력단어-> 안녕 is: 사전에 찾는 단어가 없어요!\n",
      "종료!\n"
     ]
    }
   ],
   "source": [
    "search=0\n",
    "f={}\n",
    "while search!=\"종료\":\n",
    "    search=input('단어를 입력해주세요(종료를 원하면 \"종료\"입력)')\n",
    "    if f.get(search,100)!=100:\n",
    "        print('입력단어->',search,'is:',f[search])\n",
    "    elif search == \"종료\":\n",
    "        break\n",
    "    else: print('입력단어->',search,'is: 사전에 찾는 단어가 없어요!')\n",
    "\n",
    "print('종료!')"
   ]
  },
  {
   "cell_type": "code",
   "execution_count": 75,
   "metadata": {},
   "outputs": [
    {
     "name": "stdout",
     "output_type": "stream",
     "text": [
      "<class 'tuple'>\n"
     ]
    }
   ],
   "source": [
    "t2 = 1,\n",
    "print(type(t2))"
   ]
  },
  {
   "cell_type": "code",
   "execution_count": 76,
   "metadata": {},
   "outputs": [
    {
     "name": "stdout",
     "output_type": "stream",
     "text": [
      "<class 'tuple'>\n"
     ]
    }
   ],
   "source": [
    "t3=1,2,3\n",
    "print(type(t3))"
   ]
  },
  {
   "cell_type": "code",
   "execution_count": 77,
   "metadata": {},
   "outputs": [],
   "source": [
    "t3=1"
   ]
  },
  {
   "cell_type": "code",
   "execution_count": 78,
   "metadata": {},
   "outputs": [
    {
     "name": "stdout",
     "output_type": "stream",
     "text": [
      "<class 'int'>\n"
     ]
    }
   ],
   "source": [
    "print(type(t3))"
   ]
  },
  {
   "cell_type": "code",
   "execution_count": null,
   "metadata": {},
   "outputs": [],
   "source": [
    "del t5[0]"
   ]
  },
  {
   "cell_type": "code",
   "execution_count": 79,
   "metadata": {},
   "outputs": [
    {
     "data": {
      "text/plain": [
       "True"
      ]
     },
     "execution_count": 79,
     "metadata": {},
     "output_type": "execute_result"
    }
   ],
   "source": [
    "'apple'in 'orange and apple tree'"
   ]
  },
  {
   "cell_type": "code",
   "execution_count": 80,
   "metadata": {},
   "outputs": [
    {
     "data": {
      "text/plain": [
       "True"
      ]
     },
     "execution_count": 80,
     "metadata": {},
     "output_type": "execute_result"
    }
   ],
   "source": [
    "30 not in (1,2,3,4,5)"
   ]
  },
  {
   "cell_type": "code",
   "execution_count": 81,
   "metadata": {},
   "outputs": [
    {
     "data": {
      "text/plain": [
       "True"
      ]
     },
     "execution_count": 81,
     "metadata": {},
     "output_type": "execute_result"
    }
   ],
   "source": [
    "60 in range(100)"
   ]
  },
  {
   "cell_type": "code",
   "execution_count": 82,
   "metadata": {},
   "outputs": [
    {
     "data": {
      "text/plain": [
       "(1, 2, 3, 4, 5)"
      ]
     },
     "execution_count": 82,
     "metadata": {},
     "output_type": "execute_result"
    }
   ],
   "source": [
    "(1,2,3)+(4,5)"
   ]
  },
  {
   "cell_type": "code",
   "execution_count": 83,
   "metadata": {},
   "outputs": [
    {
     "data": {
      "text/plain": [
       "range"
      ]
     },
     "execution_count": 83,
     "metadata": {},
     "output_type": "execute_result"
    }
   ],
   "source": [
    "type(range(5))"
   ]
  },
  {
   "cell_type": "code",
   "execution_count": 84,
   "metadata": {},
   "outputs": [
    {
     "name": "stdout",
     "output_type": "stream",
     "text": [
      "정답입니다.\n"
     ]
    }
   ],
   "source": [
    "ans=input(\"과일을 입력해주세요: \")\n",
    "fruit=[\"사과\",\"포도\",\"홍시\"]\n",
    "if ans in fruit:\n",
    "    print('정답입니다.')\n",
    "else:print('오답입니다.')\n"
   ]
  },
  {
   "cell_type": "code",
   "execution_count": 86,
   "metadata": {},
   "outputs": [
    {
     "name": "stdout",
     "output_type": "stream",
     "text": [
      "Hi\n"
     ]
    }
   ],
   "source": [
    "def Hi():\n",
    "    print('Hi')\n",
    "Hi()"
   ]
  },
  {
   "cell_type": "code",
   "execution_count": 87,
   "metadata": {},
   "outputs": [
    {
     "name": "stdout",
     "output_type": "stream",
     "text": [
      "\n",
      "None\n"
     ]
    }
   ],
   "source": [
    "print(print())"
   ]
  },
  {
   "cell_type": "code",
   "execution_count": 88,
   "metadata": {},
   "outputs": [
    {
     "name": "stdout",
     "output_type": "stream",
     "text": [
      "<function Hi at 0x000002A0F5B66D40>\n"
     ]
    }
   ],
   "source": [
    "print(Hi)"
   ]
  },
  {
   "cell_type": "code",
   "execution_count": 89,
   "metadata": {},
   "outputs": [
    {
     "name": "stdout",
     "output_type": "stream",
     "text": [
      "<built-in function print>\n"
     ]
    }
   ],
   "source": [
    "print(print)"
   ]
  },
  {
   "cell_type": "code",
   "execution_count": 90,
   "metadata": {},
   "outputs": [
    {
     "name": "stdout",
     "output_type": "stream",
     "text": [
      "철수야 Hi~\n"
     ]
    }
   ],
   "source": [
    "def Namehi(name):\n",
    "    print(f'{name}야 Hi~')\n",
    "Namehi('철수')"
   ]
  },
  {
   "cell_type": "code",
   "execution_count": 97,
   "metadata": {},
   "outputs": [],
   "source": [
    "def Hireturn():\n",
    "    return 'Hi'"
   ]
  },
  {
   "cell_type": "code",
   "execution_count": 92,
   "metadata": {},
   "outputs": [
    {
     "name": "stdout",
     "output_type": "stream",
     "text": [
      "Hi\n"
     ]
    }
   ],
   "source": [
    "b = Hireturn()\n",
    "print(b)"
   ]
  },
  {
   "cell_type": "code",
   "execution_count": 93,
   "metadata": {},
   "outputs": [],
   "source": [
    "def add(a,b):\n",
    "    return a+b"
   ]
  },
  {
   "cell_type": "code",
   "execution_count": 95,
   "metadata": {},
   "outputs": [
    {
     "name": "stdout",
     "output_type": "stream",
     "text": [
      "9\n"
     ]
    }
   ],
   "source": [
    "add_ff=add(5,4)\n",
    "print(add_ff)"
   ]
  },
  {
   "cell_type": "code",
   "execution_count": 103,
   "metadata": {},
   "outputs": [
    {
     "name": "stdout",
     "output_type": "stream",
     "text": [
      "76\n"
     ]
    }
   ],
   "source": [
    "def num_max(a,b,c):\n",
    "    if a>b>=c:\n",
    "        \n",
    "        return a\n",
    "    elif a>c>b:\n",
    "        \n",
    "        return a\n",
    "    elif b>a>=c:\n",
    "        \n",
    "        return b\n",
    "    elif b>c>a:\n",
    "        \n",
    "        return b\n",
    "    elif c>b>=a:\n",
    "        \n",
    "        return c\n",
    "    elif c>a>b:\n",
    "        \n",
    "        return c\n",
    "    else: \n",
    "        return print('Cant print')\n",
    "    \n",
    "     \n",
    "print(num_max(76,7,7))\n",
    "    "
   ]
  },
  {
   "cell_type": "code",
   "execution_count": 120,
   "metadata": {},
   "outputs": [
    {
     "data": {
      "text/plain": [
       "True"
      ]
     },
     "execution_count": 120,
     "metadata": {},
     "output_type": "execute_result"
    }
   ],
   "source": [
    "\n",
    "def yunnyun(y):\n",
    "    if y%400==0 and y%100==0:\n",
    "        return True\n",
    "    elif y%4==0: \n",
    "        return True\n",
    "    \n",
    "     \n",
    "    else: \n",
    "        return False\n",
    "yunnyun(1900)\n"
   ]
  },
  {
   "cell_type": "code",
   "execution_count": 125,
   "metadata": {},
   "outputs": [
    {
     "name": "stdout",
     "output_type": "stream",
     "text": [
      "17\n"
     ]
    }
   ],
   "source": [
    "def add_many(*args):\n",
    "    result =0\n",
    "    for i in args:\n",
    "        result=result +i\n",
    "    return result\n",
    "print(add_many(4,5,8))"
   ]
  },
  {
   "cell_type": "code",
   "execution_count": null,
   "metadata": {},
   "outputs": [],
   "source": [
    "def add_mul(choice, *args):\n",
    "    if choice=='add':\n",
    "        result = 0\n",
    "        for i in args:\n",
    "            result += i\n",
    "    elif choice =='mul':\n",
    "        result = 1\n",
    "        for i in args:\n",
    "            result *=i\n",
    "    return result"
   ]
  },
  {
   "cell_type": "code",
   "execution_count": 126,
   "metadata": {},
   "outputs": [],
   "source": [
    "def func(a,b):\n",
    "    return a+b,a-b,a*b,a//b"
   ]
  },
  {
   "cell_type": "code",
   "execution_count": 127,
   "metadata": {},
   "outputs": [
    {
     "name": "stdout",
     "output_type": "stream",
     "text": [
      "(13, 7, 30, 3)\n"
     ]
    }
   ],
   "source": [
    "print(func(10,3))"
   ]
  },
  {
   "cell_type": "code",
   "execution_count": 128,
   "metadata": {},
   "outputs": [
    {
     "name": "stdout",
     "output_type": "stream",
     "text": [
      "13 7 30 3\n"
     ]
    }
   ],
   "source": [
    "num1, num2, num3, num4=func(10,3)\n",
    "print(num1, num2, num3, num4)"
   ]
  },
  {
   "cell_type": "code",
   "execution_count": null,
   "metadata": {},
   "outputs": [],
   "source": []
  }
 ],
 "metadata": {
  "kernelspec": {
   "display_name": "Python 3",
   "language": "python",
   "name": "python3"
  },
  "language_info": {
   "codemirror_mode": {
    "name": "ipython",
    "version": 3
   },
   "file_extension": ".py",
   "mimetype": "text/x-python",
   "name": "python",
   "nbconvert_exporter": "python",
   "pygments_lexer": "ipython3",
   "version": "3.13.1"
  }
 },
 "nbformat": 4,
 "nbformat_minor": 2
}
